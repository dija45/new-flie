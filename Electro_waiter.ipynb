{
  "nbformat": 4,
  "nbformat_minor": 0,
  "metadata": {
    "colab": {
      "name": "Electro_waiter.ipynb",
      "provenance": []
    },
    "kernelspec": {
      "name": "python3",
      "display_name": "Python 3"
    }
  },
  "cells": [
    {
      "cell_type": "code",
      "metadata": {
        "id": "G1ifu_H67Nyc",
        "colab_type": "code",
        "colab": {}
      },
      "source": [
        "def greeting_msg():\n",
        "    print('welcome sir')"
      ],
      "execution_count": 0,
      "outputs": []
    },
    {
      "cell_type": "code",
      "metadata": {
        "id": "kFJ67NUfFSaw",
        "colab_type": "code",
        "colab": {}
      },
      "source": [
        "def order ():\n",
        "  g_appet=[]\n",
        "  g_mndsh=[]\n",
        "  g_drnks=[]\n",
        "\n",
        "  d= input('please choose an appetizer')\n",
        "  g_appet.append(d)\n",
        "\n",
        "  c= input('please choose the main dish')\n",
        "  g_mindsh.append(c)\n",
        "\n",
        "  f= input('please choose a drink')\n",
        "  g_drnks.append(f)\n",
        "\n",
        "  g_order= g_appet+ g_mindsh +g_drinks\n",
        "\n",
        "  return g_order\n"
      ],
      "execution_count": 0,
      "outputs": []
    },
    {
      "cell_type": "code",
      "metadata": {
        "id": "KSdQ8kj7Tw7l",
        "colab_type": "code",
        "colab": {}
      },
      "source": [
        "def submit(lst):\n",
        "    global order_lst\n",
        "    global add_order_lst\n",
        "    global all_list\n",
        "    order_lst=[]\n",
        "    add_order_lst=[]\n",
        "    \n",
        "    while True :\n",
        "          try:\n",
        "            a=int(input(' our order is complete,enter 1 to submit our order or 2 to add anthing'))\n",
        "          except:\n",
        "            print('please enter a valid choice')\n",
        "          else:\n",
        "            if a ==1:\n",
        "              print ('our order will be ready in seconds!!')\n",
        "              order_lst=lst\n",
        "              break\n",
        "            elif a==2:\n",
        "              r=order ()\n",
        "              add_order_lst=r\n",
        "\n",
        "    all_list=order_lst+add_order_lst\n",
        "    return all_list\n",
        "                \n",
        "\n"
      ],
      "execution_count": 0,
      "outputs": []
    },
    {
      "cell_type": "code",
      "metadata": {
        "id": "tSV9MMOWWUul",
        "colab_type": "code",
        "colab": {}
      },
      "source": [
        "\n",
        "def electro_waiter():\n",
        "    greeting_msg()\n",
        "    k=order ()\n",
        "    g=submit(k)\n",
        "    print(g)\n",
        "\n"
      ],
      "execution_count": 0,
      "outputs": []
    },
    {
      "cell_type": "code",
      "metadata": {
        "id": "sXEawmmQmHfU",
        "colab_type": "code",
        "outputId": "ae47ac47-be8c-41bc-cf8c-9e3bb80c23ab",
        "colab": {
          "base_uri": "https://localhost:8080/",
          "height": 34
        }
      },
      "source": [
        "x = \"awesome\"\n",
        "\n",
        "def myfunc():\n",
        "  b = \"fantastic\"\n",
        "  return b\n",
        "\n",
        "x= myfunc()\n",
        "\n",
        "print(\"Python is \" + x)"
      ],
      "execution_count": 0,
      "outputs": [
        {
          "output_type": "stream",
          "text": [
            "Python is fantastic\n"
          ],
          "name": "stdout"
        }
      ]
    },
    {
      "cell_type": "code",
      "metadata": {
        "id": "q8plwK-ZmjYK",
        "colab_type": "code",
        "outputId": "225d5869-0c47-41c2-8a8e-bc960587f5f8",
        "colab": {
          "base_uri": "https://localhost:8080/",
          "height": 34
        }
      },
      "source": [
        "x = \"awesome\"\n",
        "\n",
        "def myfunc():\n",
        "  global x\n",
        "  x = \"fantastic\"\n",
        "\n",
        "myfunc()\n",
        "\n",
        "print(\"Python is \" + x)"
      ],
      "execution_count": 0,
      "outputs": [
        {
          "output_type": "stream",
          "text": [
            "Python is fantastic\n"
          ],
          "name": "stdout"
        }
      ]
    },
    {
      "cell_type": "code",
      "metadata": {
        "id": "JA32vdSDmWBM",
        "colab_type": "code",
        "colab": {}
      },
      "source": [
        ""
      ],
      "execution_count": 0,
      "outputs": []
    }
  ]
}